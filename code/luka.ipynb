{
 "cells": [
  {
   "cell_type": "code",
   "execution_count": 11,
   "metadata": {},
   "outputs": [],
   "source": [
    "# Dependencies\n",
    "from bs4 import BeautifulSoup\n",
    "import requests"
   ]
  },
  {
   "cell_type": "code",
   "execution_count": 12,
   "metadata": {},
   "outputs": [],
   "source": [
    "# URL of page to be scraped\n",
    "url = 'http://bkref.com/pi/shareit/Ip5xi'"
   ]
  },
  {
   "cell_type": "code",
   "execution_count": 13,
   "metadata": {},
   "outputs": [],
   "source": [
    "# Retrieve page with the requests module\n",
    "response = requests.get(url)"
   ]
  },
  {
   "cell_type": "code",
   "execution_count": 14,
   "metadata": {},
   "outputs": [],
   "source": [
    "# Create BeautifulSoup object; parse with 'html.parser'\n",
    "soup = BeautifulSoup(response.text, 'html.parser')"
   ]
  },
  {
   "cell_type": "code",
   "execution_count": 15,
   "metadata": {
    "tags": [
     "outputPrepend"
    ]
   },
   "outputs": [
    {
     "output_type": "stream",
     "name": "stdout",
     "text": [
      "\">\n          2018 NBA Playoffs\n         </a>\n         ,\n         <a href=\"/playoffs/NBA_2017.html\">\n          2017 NBA Playoffs\n         </a>\n         ,\n         <a href=\"/playoffs/\">\n          Playoffs Series History\n         </a>\n         ...\n        </div>\n       </li>\n       <li>\n        <a href=\"/allstar/\">\n         All-Star Games\n        </a>\n        <div>\n         <a href=\"/allstar/NBA_2021.html\">\n          2021 All-Star Game\n         </a>\n         ,\n         <a href=\"/allstar/NBA_2020.html\">\n          2020 All-Star Game\n         </a>\n         ,\n         <a href=\"/allstar/NBA_2019.html\">\n          2019 All-Star Game\n         </a>\n         ,\n         <a href=\"/allstar/NBA_2018.html\">\n          2018 All-Star Game\n         </a>\n         ...\n        </div>\n       </li>\n       <li>\n        <a href=\"/draft/\">\n         NBA Draft\n        </a>\n        <div>\n         <a href=\"/draft/NBA_2020.html\">\n          2020 Draft\n         </a>\n         ,\n         <a href=\"/draft/NBA_2019.html\">\n          2019 Draft\n         </a>\n         ,\n         <a href=\"/draft/NBA_2018.html\">\n          2018 Draft\n         </a>\n         ,\n         <a href=\"/draft/NBA_2017.html\">\n          2017 Draft\n         </a>\n         ,\n         <a href=\"/draft/NBA_2016.html\">\n          2016 Draft\n         </a>\n         , \n      ...\n        </div>\n       </li>\n       <li>\n        <a href=\"/friv/\">\n         Frivolities\n        </a>\n        <div>\n         <a href=\"/friv/birthdays.fcgi\">\n          Birthdays\n         </a>\n         ,\n         <a href=\"/friv/colleges.fcgi\">\n          Colleges\n         </a>\n         ,\n         <a href=\"/friv/high_schools.fcgi\">\n          High Schools\n         </a>\n         ,\n         <a href=\"/friv/milestones.fcgi\">\n          Milestone Watch\n         </a>\n         ...\n        </div>\n       </li>\n       <li>\n        <a href=\"/executives/\">\n         Executives\n        </a>\n        <div>\n         <a href=\"/executives/buforrc99x.html\">\n          R.C. Buford\n         </a>\n         ,\n         <a href=\"/executives/embrywa01x.html\">\n          Wayne Embry\n         </a>\n         ,\n         <a href=\"/executives/kastest99x.html\">\n          Stan Kasten\n         </a>\n         ,\n         <a href=\"/executives/aingeda01x.html\">\n          Danny Ainge\n         </a>\n         ,\n         <a href=\"/executives/nelsodo01x.html\">\n          Don Nelson\n         </a>\n         ...\n        </div>\n       </li>\n       <li>\n        <a href=\"/referees/\">\n         Referees\n        </a>\n        <div>\n         <a href=\"/referees/fortejo99r.html\">\n          Joe Forte\n         </a>\n         ,\n         <a href=\"/referees/brothto99r.html\">\n          Tony Brothers\n         </a>\n         ,\n         <a href=\"/referees/crawfda99r.html\">\n          Dan Crawford\n         </a>\n         ,\n         <a href=\"/referees/olesiro99r.html\">\n          Ron Olesiak\n         </a>\n         ,\n         <a href=\"/referees/jonesda99r.html\">\n          David Jones\n         </a>\n         ...\n        </div>\n       </li>\n       <li>\n        <a href=\"/gleague/\">\n         G League Stats\n        </a>\n        <div>\n         <a href=\"/gleague/players/\">\n          Players\n         </a>\n         ,\n         <a href=\"/gleague/teams/\">\n          Teams\n         </a>\n         ,\n         <a href=\"/gleague/years/\">\n          Seasons\n         </a>\n         ,\n         <a href=\"/gleague/leaders/\">\n          Leaders\n         </a>\n         ,\n         <a href=\"/gleague/awards/\">\n          Awards\n         </a>\n         ...\n        </div>\n       </li>\n       <li>\n        <a href=\"/international/\">\n         International Basketball Stats\n        </a>\n        <div>\n         <a href=\"/international/players/\">\n          Players\n         </a>\n         ,\n         <a href=\"/international/teams/\">\n          Teams\n         </a>\n         ,\n         <a href=\"/international/years/\">\n          Seasons\n         </a>\n         ,\n         <a href=\"/international/leaders/\">\n          Leaders\n         </a>\n         ,\n         <a href=\"/international/awards/\">\n          Awards\n         </a>\n         ...\n        </div>\n       </li>\n       <li>\n        <a href=\"/wnba/\">\n         WNBA\n        </a>\n        <div>\n         <a href=\"/wnba/players/\">\n          Players\n         </a>\n         ,\n         <a href=\"/wnba/teams/\">\n          Teams\n         </a>\n         ,\n         <a href=\"/wnba/years/\">\n          Seasons\n         </a>\n         ,\n         <a href=\"/wnba/leaders/\">\n          Leaders\n         </a>\n         ,\n         <a href=\"/wnba/awards/\">\n          Awards\n         </a>\n         ...\n        </div>\n       </li>\n       <li>\n        <a href=\"/nbl/\">\n         NBL\n        </a>\n        <div>\n         <a href=\"/nbl/players/\">\n          Players\n         </a>\n         ,\n         <a href=\"/nbl/teams/\">\n          Teams\n         </a>\n         ,\n         <a href=\"/nbl/years/\">\n          Seasons\n         </a>\n         ,\n         <a href=\"/nbl/leaders/\">\n          Leaders\n         </a>\n         ,\n         <a href=\"/nbl/awards/\">\n          Awards\n         </a>\n         ...\n        </div>\n       </li>\n       <li>\n        <a href=\"/about/\">\n         About\n        </a>\n        <div>\n         <a href=\"/about/glossary.html\">\n          Glossary\n         </a>\n         ,\n         <a href=\"/about/contact.html\">\n          Contact and Media Information\n         </a>\n         ,\n      ...\n        </div>\n       </li>\n      </ul>\n     </div>\n     <!-- div#site_menu -->\n     <div>\n      <div class=\"icon_group noload\" id=\"social\">\n       <div class=\"section_heading assoc_share\" id=\"share_sh\">\n        <span class=\"section_anchor\" data-label=\"We're Social...for Statheads\" data-no-inpage=\"1\" id=\"share_link\">\n        </span>\n        <h2>\n         We're Social...for Statheads\n        </h2>\n       </div>\n       <a class=\"poptip\" data-label=\"Telephone\" data-tip=\"Call us on Telephone\" href=\"tel://888-512-8907\">\n        <svg class=\"icon phone\">\n         <use xlink:href=\"#ic-phone\">\n         </use>\n        </svg>\n       </a>\n       <a class=\"poptip\" data-label=\"Our Blog\" data-tip=\"The Sports Reference Blog\" href=\"//www.sports-reference.com/blog/\">\n        <svg class=\"icon wordpress\">\n         <use xlink:href=\"#ic-wordpress\">\n         </use>\n        </svg>\n       </a>\n       <a class=\"poptip\" data-label=\"RSS Feed\" data-tip=\"Our Blog's RSS Feed\" href=\"https://www.sports-reference.com/blog/feed/\">\n        <svg class=\"icon rss\">\n         <use xlink:href=\"#ic-rss\">\n         </use>\n        </svg>\n       </a>\n       <a class=\"poptip\" data-label=\"Facebook\" data-tip=\"Basketball-Reference.com at Facebook\" href=\"https://www.facebook.com/Basketball.Reference\">\n        <svg class=\"icon facebook\">\n         <use xlink:href=\"#ic-facebook\">\n         </use>\n        </svg>\n       </a>\n       <a class=\"poptip\" data-label=\"Twitter\" data-tip=\"Basketball-Reference.com at Twitter\" href=\"https://twitter.com/bball_ref\">\n        <svg class=\"icon twitter\">\n         <use xlink:href=\"#ic-twitter\">\n         </use>\n        </svg>\n       </a>\n       <a class=\"poptip\" data-label=\"Instagram\" data-tip=\"Basketball-Reference.com at Instagram\" href=\"https://instagram.com/basketball.reference\">\n        <svg class=\"icon instagram\">\n         <use xlink:href=\"#ic-instagram\">\n         </use>\n        </svg>\n       </a>\n       <a class=\"poptip\" data-label=\"Reddit/r/SR\" data-tip=\"Reddit/r/SportsReference\" href=\"https://reddit.com/r/SportsReference\">\n        <svg class=\"icon reddit\">\n         <use xlink:href=\"#ic-reddit\">\n         </use>\n        </svg>\n       </a>\n       <a class=\"poptip\" data-label=\"YouTube\" data-tip=\"YouTube/SportsReference\" href=\"https://www.youtube.com/user/sportsreference\">\n        <svg class=\"icon youtube\">\n         <use xlink:href=\"#ic-youtube\">\n         </use>\n        </svg>\n       </a>\n       <a class=\"poptip\" data-label=\"LinkedIn\" data-tip=\"Follow SR on LinkedIn\" href=\"https://www.linkedin.com/company/sports-reference-llc\">\n        <svg class=\"icon linkedin\">\n         <use xlink:href=\"#ic-linkedin\">\n         </use>\n        </svg>\n       </a>\n       <a class=\"poptip\" data-label=\"PayPal\" data-tip=\"Send us money via PayPal\" href=\"https://www.paypal.me/sportsref\">\n        <svg class=\"icon paypal\">\n         <use xlink:href=\"#ic-paypal\">\n         </use>\n        </svg>\n       </a>\n       <p>\n        Every\n        <a href=\"https://www.sports-reference.com/blog/sports-reference-social-media/\">\n         Sports Reference Social Media Account\n        </a>\n       </p>\n       <p>\n        <strong>\n         Site Last Updated:\n        </strong>\n        Monday, June 14,  4:10AM\n       </p>\n       <p>\n        <a class=\"button alt\" href=\"#\" onclick=\"FreshworksWidget('open'); return false;\">\n         Question, Comment, Feedback, or Correction?\n        </a>\n       </p>\n       <p>\n        <a class=\"button alt\" href=\"https://stathead.com/?&amp;utm_medium=sr&amp;utm_source=bbr&amp;utm_campaign=site-footer\" style=\"background-color:#8e4496; color: #fff;\">\n         Are you a Stathead, too? Subscribe to our Free Newsletter\n        </a>\n       </p>\n       <p>\n        <a class=\"button alt\" href=\"https://www.sports-reference.com/this-month.html?&amp;utm_medium=sr&amp;utm_source=bbr&amp;utm_campaign=site-footer-twisr\" style=\"background-color:#155ca9; color: #fff;\">\n         This Month in Sports Reference\n         <br/>\n         <em>\n          Find out when we add a feature or make a change\n         </em>\n        </a>\n       </p>\n       <p>\n        <a href=\"https://www.sports-reference.com/blog/ways-sports-reference-can-help-your-website/?utm_medium=sr&amp;utm_source=bbr&amp;utm_campaign=site-footer-ways-help\">\n         Do you have a sports website? Or write about sports? We have tools and resources that can help you use sports data.  Find out more.\n        </a>\n       </p>\n      </div>\n      <!-- div#social -->\n      <div id=\"tips_tricks\">\n       <div class=\"section_heading assoc_tips\" id=\"tips_sh\">\n        <span class=\"section_anchor\" data-label=\"FAQs, Tip &amp; Tricks\" data-no-inpage=\"1\" id=\"tips_link\">\n        </span>\n        <h2>\n         FAQs, Tip &amp; Tricks\n        </h2>\n       </div>\n       <ul>\n        <!-- no Local/FooterTipsTricks.tt2 -->\n        <li>\n         <a href=\"//www.sports-reference.com/blog/category/tips-and-tricks/\">\n          Tips and Tricks from our Blog.\n         </a>\n        </li>\n        <li>\n         <a href=\"/linker/\">\n          Do you have a blog? Join our linker program.\n         </a>\n        </li>\n        <li>\n         <a href=\"https://www.sports-reference.com/blog/category/stathead-tutorial-series/\">\n          Watch our How-To Videos to Become a Stathead\n         </a>\n        </li>\n        <li>\n         <a href=\"//stathead.com/\">\n          Subscribe to Stathead and get access to more data than you can imagine\n         </a>\n        </li>\n       </ul>\n      </div>\n      <!-- div#tips_tricks -->\n      <div id=\"credits\">\n       <p>\n        All logos are the trademark &amp; property of their owners and not Sports Reference LLC.  We present them here for purely educational purposes.\n        <a href=\"https://www.sports-reference.com/blog/2016/06/redesign-team-and-league-logos-courtesy-sportslogos-net/\">\n         Our reasoning for presenting offensive logos.\n        </a>\n       </p>\n       <p>\n        Logos were compiled by the amazing\n        <a href=\"http://sportslogos.net/\">\n         SportsLogos.net.\n        </a>\n       </p>\n       <div class=\"notice\">\n        <p>\n         Data Provided By\n         <a href=\"https://www.sportradar.com/\" rel=\"nofollow\">\n          <img alt=\"SportRadar\" border=\"0\" src=\"https://d2p3bygnnzw9w3.cloudfront.net/req/202105061/images/klecko/sportradar.png\" style=\"background-color:#666; padding:.5em; border-radius:.25em\" width=\"275\"/>\n         </a>\n         the official stats partner of the NBA.\n        </p>\n       </div>\n       <p>\n        Copyright © 2000-2021\n        <a href=\"//www.sports-reference.com/\">\n         Sports Reference LLC\n        </a>\n        . All rights reserved.\n       </p>\n      </div>\n      <!-- div#credits -->\n     </div>\n    </div>\n    <ul class=\"notranslate bullets-inline\" id=\"site_dirs\">\n     <li>\n      <a href=\"https://www.sports-reference.com/\">\n       <svg height=\"15px\" width=\"20px\">\n        <use xlink:href=\"#ic-sr-pennant\">\n        </use>\n       </svg>\n       Sports Reference\n      </a>\n     </li>\n     <li>\n      <a href=\"https://www.baseball-reference.com/\">\n       Baseball\n      </a>\n     </li>\n     <li>\n      <a href=\"https://www.pro-football-reference.com/\">\n       Football\n      </a>\n      <a href=\"https://www.sports-reference.com/cfb/\">\n       (college)\n      </a>\n     </li>\n     <li class=\"current\">\n      <a href=\"https://www.basketball-reference.com/\">\n       Basketball\n      </a>\n      <a href=\"https://www.sports-reference.com/cbb/\">\n       (college)\n      </a>\n     </li>\n     <li>\n      <a href=\"https://www.hockey-reference.com/\">\n       Hockey\n      </a>\n     </li>\n     <li>\n      <a href=\"https://fbref.com/fr/\">\n       Football\n      </a>\n     </li>\n     <li>\n      <a href=\"https://www.sports-reference.com/blog/\">\n       Blog\n      </a>\n     </li>\n     <li>\n      <a href=\"https://stathead.com/?utm_source=web&amp;utm_medium=bbr&amp;utm_campaign=sr-nav-bar-top-link\">\n       Stathead\n      </a>\n     </li>\n     <li>\n      <a href=\"https://widgets.sports-reference.com/\">\n       Widgets\n      </a>\n     </li>\n    </ul>\n    <div id=\"about\">\n     <a href=\"//www.sports-reference.com/about.html\">\n      About\n     </a>\n     •\n     <a href=\"//www.sports-reference.com/privacy.html\">\n      Privacy Statement\n     </a>\n     •\n     <a href=\"//www.sports-reference.com/termsofuse.html\">\n      Conditions &amp; Terms of Service\n     </a>\n     •\n     <a href=\"//www.sports-reference.com/advertise.html\">\n      Advertise With Us\n     </a>\n     •\n     <a href=\"//www.sports-reference.com/data_use.html\">\n      Use of Data\n     </a>\n    </div>\n    <!-- div#about -->\n   </div>\n   <!-- div#footer -->\n  </div>\n  <!-- div#wrap -->\n  <!-- no sticky url:  /tools/share.fcgi?id=Ip5xi -->\n  <!-- rails -->\n  <div class=\"adblock rails left\">\n   <!-- div#fs_fs_rails_left  -->\n   <div align=\"center\" id=\"div-gpt-ad-160x600-1\">\n    <script data-cfasync=\"false\" type=\"text/javascript\">\n     if (sr_detect_ie || sr_detect_edge || Modernizr.adfree) {\n    }\n    else {\n        console.log('push ad:div-gpt-ad-160x600-1');\n        freestar.queue.push(function() { googletag.display('div-gpt-ad-160x600-1'); });\n    }\n    </script>\n   </div>\n   <!-- /div.#fs_fs_rails_left -->\n  </div>\n  <div class=\"adblock rails right\">\n   <!-- div#fs_fs_rails_right  -->\n   <div align=\"center\" id=\"div-gpt-ad-160x600-2\">\n    <script data-cfasync=\"false\" type=\"text/javascript\">\n     if (sr_detect_ie || sr_detect_edge || Modernizr.adfree) {\n    }\n    else {\n        console.log('push ad:div-gpt-ad-160x600-2');\n        freestar.queue.push(function() { googletag.display('div-gpt-ad-160x600-2'); });\n    }\n    </script>\n   </div>\n   <!-- /div.#fs_fs_rails_right -->\n  </div>\n  <!-- Google Analytics -->\n  <script>\n   var sr_cookie = vjs_readCookie('stathead_user') || ''; var sr_cookie_split = sr_cookie.split(\"::\"); var sr_session_key = (sr_cookie_split.length > 1)?sr_cookie_split[2]:''; var sr_ad_free_key = \"4\"; var sr_site_id = \"bbr\"; var sr_is_subscriber = (sr_ad_free_key && sr_session_key.vjs_isMatch(new RegExp(sr_ad_free_key + \"$\"))) || sr_session_key.vjs_isMatch(/1$/) || (sr_site_id === 'stathead' && sr_session_key.vjs_isMatch(/[0-7]$/)); var sr_is_user = sr_cookie !== null && sr_cookie !== ''; var sr_seen_modal = vjs_readCookie('modal_ad') !== null; var sr_device = 'unk'; if (Modernizr.phone) { sr_device = 'phone'; } else if (Modernizr.tablet) { sr_device = 'tablet'; } else if (Modernizr.laptop) { sr_device = 'laptop'; } else if (Modernizr.desktop) { sr_device = 'desktop'; } var sr_stathead_site = vjs_readCookie('stathead_site') || ''; var sr_stathead_type = vjs_readCookie('stathead_type') || ''; (function(i,s,o,g,r,a,m){ i['GoogleAnalyticsObject']=r; i[r]=i[r]||function(){(i[r].q=i[r].q||[]).push(arguments)},i[r].l=1*new Date(); a=s.createElement(o),m=s.getElementsByTagName(o)[0]; a.async=1; a.src=g; m.parentNode.insertBefore(a,m) })(window,document,'script','https://www.google-analytics.com/analytics.js','ga'); ga('create', 'UA-1890630-2', 'auto'); ga('require', 'linkid', 'linkid.js'); ga('require', 'ecommerce', 'ecommerce.js'); ga('require', 'displayfeatures'); ga('set', 'dimension1', sr_is_subscriber); ga('set', 'dimension2', sr_is_user); /* no longer collecting is_modern */ ga('set', 'dimension3', 'null'); ga('set', 'dimension4', sr_stathead_type); ga('set', 'dimension5', sr_stathead_site); ga('set', 'metric1', Modernizr.viewport_width); ga('send', 'pageview'); /* all sr-sites together */ ga('create', 'UA-1890630-9', 'auto', {'name': 'sr_tracker', 'allowLinker': true }); ga('sr_tracker.require', 'displayfeatures'); ga('sr_tracker.set', 'dimension1',sr_site_id); ga('sr_tracker.set', 'dimension2',sr_is_subscriber); ga('sr_tracker.set', 'dimension3',sr_is_user); ga('sr_tracker.set', 'dimension4',sr_seen_modal); ga('sr_tracker.set', 'dimension5',sr_device); /* no longer collecting is_modern */ ga('sr_tracker.set', 'dimension6','null'); ga('sr_tracker.set', 'metric1',Modernizr.viewport_width); /* note that this requires the Assets/AdBlockTest.tt2 to be included above. ga('sr_tracker.set', 'dimension8',(typeof sr_test == 'undefined')?'no-test':( sr_test ? 'non-blocking':'blocking')); */ ga('sr_tracker.send', 'pageview'); /* cribbed from: http://www.axllent.org/docs/view/track-outbound-links-with-analytics-js/ */ function _gaLt(event) { if (!ga.hasOwnProperty(\"loaded\") || ga.loaded != true) { return; } var el = event.srcElement || event.target; /* if a link has been clicked */ if (el && el.href) { var link = el.href; /* Only if it is an external link */ if (link.indexOf(location.host) == -1 && !link.match(/^javascript\\:/i)) { /* Is target set and not _(self|parent|top)? */ var target = (el.target && !el.target.match(/^_(self|parent|top)/i)) ? el.target : false; /* If target opens a new window then just track */ if (el.target && !el.target.match(/^_(self|parent|top)/i)) { ga(\"send\", \"event\", \"Outgoing Links\", link, document.location.pathname + document.location.search); } }; } } window.addEventListener ? window.addEventListener(\"load\", function() { document.body.addEventListener(\"click\", _gaLt, !1)}, !1) : window.attachEvent && window.attachEvent(\"onload\", function() { document.body.attachEvent(\"onclick\", _gaLt) });\n  </script>\n  <!-- End Google Analytics -->\n  <script>\n   var fd_sr_site_id=\"bbr\";window.fwSettings={widget_id:66000002075},function(){if(\"function\"!=typeof window.FreshworksWidget){var e=function(){e.q.push(arguments)};e.q=[],window.FreshworksWidget=e}}();var script=document.createElement(\"script\");switch(script.src=\"https://widget.freshworks.com/widgets/66000002075.js\",script.type=\"text/javascript\",script.async=!0,script.defer=!0,document.head.appendChild(script),fd_sr_site_id){case\"br\":fd_site_name=\"Baseball Reference\";break;case\"bbr\":fd_site_name=\"Basketball Reference\";break;case\"pfr\":fd_site_name=\"Pro Football Reference\";break;case\"hr\":fd_site_name=\"Hockey Reference\";break;case\"fbref\":fd_site_name=\"FBRef\";break;case\"cfb\":fd_site_name=\"College Football Reference\";break;case\"cbb\":fd_site_name=\"College Basketball Reference\";break;case\"sr\":fd_site_name=\"Sports Reference\";break;case\"blog\":fd_site_name=\"Blog\";break;case\"stathead\":fd_site_name=\"Stathead\";break;default:fd_site_name=\"Other\"}var stathead_user=\"\";try{stathead_user=vjs_readCookie(\"stathead_user\").split(\"::\").shift()}catch{}if(window.location.href.length>255)var page_url=\"(URL too long to include)\";else page_url=window.location.href;FreshworksWidget(\"prefill\",\"ticketForm\",{custom_fields:{cf_site_external:fd_site_name,cf_page:page_url,cf_stathead_user_id:stathead_user}}),FreshworksWidget(\"hide\",\"launcher\"),(Modernizr.desktop||Modernizr.laptop)&&\"stathead\"===fd_sr_site_id&&FreshworksWidget(\"show\",\"launcher\");\n  </script>\n </body>\n <!-- SR -->\n</html>\n\n"
     ]
    }
   ],
   "source": [
    "# Examine the results, then determine element that contains sought info\n",
    "print(soup.prettify())"
   ]
  },
  {
   "cell_type": "code",
   "execution_count": 17,
   "metadata": {},
   "outputs": [],
   "source": [
    "# results are returned as an iterable list\n",
    "results = soup.find_all('li', class_=\"result-row\")"
   ]
  },
  {
   "cell_type": "code",
   "execution_count": 18,
   "metadata": {},
   "outputs": [],
   "source": [
    "# Loop through returned results\n",
    "for result in results:\n",
    "    # Error handling\n",
    "    try:\n",
    "        # Identify and return title of listing\n",
    "        title = result.find('a', class_=\"result-title\").text\n",
    "        # Identify and return price of listing\n",
    "        price = result.a.span.text\n",
    "        # Identify and return link to listing\n",
    "        link = result.a['href']\n",
    "\n",
    "        # Print results only if title, price, and link are available\n",
    "        if (title and price and link):\n",
    "            print('-------------')\n",
    "            print(title)\n",
    "            print(price)\n",
    "            print(link)\n",
    "    except AttributeError as e:\n",
    "        print(e)"
   ]
  },
  {
   "cell_type": "code",
   "execution_count": null,
   "metadata": {},
   "outputs": [],
   "source": []
  },
  {
   "cell_type": "code",
   "execution_count": null,
   "metadata": {},
   "outputs": [],
   "source": []
  }
 ],
 "metadata": {
  "kernelspec": {
   "name": "python3",
   "display_name": "Python 3.9.2 64-bit"
  },
  "interpreter": {
   "hash": "ee5cc6fef2d70a7e71ee3826687cbd150f18158e0b1eef11d4f4f92bb920e304"
  }
 },
 "nbformat": 4,
 "nbformat_minor": 4
}
